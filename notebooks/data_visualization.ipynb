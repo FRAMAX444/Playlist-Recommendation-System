{
 "cells": [
  {
   "cell_type": "code",
   "execution_count": 6,
   "metadata": {},
   "outputs": [],
   "source": [
    "import pandas as pd\n",
    "import json\n",
    "import ast\n",
    "import os\n",
    "from tqdm import tqdm\n",
    "import numpy as np\n",
    "from scipy.sparse import coo_matrix\n",
    "from scipy.sparse import csr_matrix\n",
    "from sklearn.decomposition import TruncatedSVD\n",
    "from sklearn.decomposition import NMF"
   ]
  },
  {
   "cell_type": "code",
   "execution_count": 7,
   "metadata": {},
   "outputs": [],
   "source": [
    "data = pd.read_csv(r'C:\\Users\\frmar\\OneDrive\\Desktop\\GitHub\\Music-Recommender-System\\dataframes\\playlists_trackId.csv')"
   ]
  },
  {
   "cell_type": "code",
   "execution_count": 8,
   "metadata": {},
   "outputs": [
    {
     "name": "stdout",
     "output_type": "stream",
     "text": [
      "        user_id                                             tracks\n",
      "0             0  [1, 2, 3, 4, 5, 6, 7, 8, 9, 10, 11, 12, 13, 14...\n",
      "1             1  [52, 53, 54, 55, 56, 57, 58, 59, 60, 61, 62, 6...\n",
      "2             2  [91, 92, 93, 94, 95, 96, 97, 98, 99, 100, 101,...\n",
      "3             3  [155, 156, 157, 158, 159, 160, 161, 162, 163, ...\n",
      "4             4  [281, 282, 283, 284, 285, 286, 287, 288, 289, ...\n",
      "...         ...                                                ...\n",
      "999995   999995  [116671, 5783, 48788, 5784, 91283, 17696, 5046...\n",
      "999996   999996  [2262285, 2262286, 2262287, 2262288, 2262289, ...\n",
      "999997   999997  [39643, 41143, 5434, 22056, 3860, 1043, 9152, ...\n",
      "999998   999998  [5768, 5872, 14504, 3936, 76224, 5838, 5838, 2...\n",
      "999999   999999  [12421, 12518, 14294, 268821, 311299, 92033, 1...\n",
      "\n",
      "[1000000 rows x 2 columns]\n"
     ]
    }
   ],
   "source": [
    "# Parse the tracks column into actual lists of integers\n",
    "data[\"tracks\"] = data[\"tracks\"].apply(lambda x: list(map(int, ast.literal_eval(x))))\n",
    "\n",
    "# Display the transformed DataFrame\n",
    "print(data)"
   ]
  },
  {
   "cell_type": "code",
   "execution_count": 9,
   "metadata": {},
   "outputs": [
    {
     "name": "stderr",
     "output_type": "stream",
     "text": [
      "1000000it [00:49, 20259.27it/s]\n"
     ]
    }
   ],
   "source": [
    "# Step 1: Extract rows, columns, and values for the sparse matrix\n",
    "rows = []\n",
    "cols = []\n",
    "values = []\n",
    "\n",
    "for index, row in tqdm(data.iterrows()):\n",
    "    try:\n",
    "        user_id = row[\"user_id\"]  # Extract user_id\n",
    "        tracks = row[\"tracks\"]    # Extract tracks\n",
    "        rows.extend([user_id] * len(tracks))  # Repeat user_id for each track\n",
    "        cols.extend(tracks)  # Track indices as columns\n",
    "        values.extend([1] * len(tracks))  # All values are 1\n",
    "    except Exception as e:\n",
    "        print(f'Error at index {index}: {e}')"
   ]
  },
  {
   "cell_type": "code",
   "execution_count": 10,
   "metadata": {},
   "outputs": [],
   "source": [
    "# Step 2: Create the sparse matrix\n",
    "sparse_matrix = csr_matrix((values, (rows, cols)), shape=(1000001, 2262293))"
   ]
  },
  {
   "cell_type": "code",
   "execution_count": 11,
   "metadata": {},
   "outputs": [
    {
     "name": "stdout",
     "output_type": "stream",
     "text": [
      "<Compressed Sparse Row sparse matrix of dtype 'int64'\n",
      "\twith 65464776 stored elements and shape (1000001, 2262293)>\n",
      "  Coords\tValues\n",
      "  (0, 1)\t1\n",
      "  (0, 2)\t1\n",
      "  (0, 3)\t1\n",
      "  (0, 4)\t1\n",
      "  (0, 5)\t1\n",
      "  (0, 6)\t1\n",
      "  (0, 7)\t1\n",
      "  (0, 8)\t1\n",
      "  (0, 9)\t1\n",
      "  (0, 10)\t1\n",
      "  (0, 11)\t1\n",
      "  (0, 12)\t1\n",
      "  (0, 13)\t1\n",
      "  (0, 14)\t1\n",
      "  (0, 15)\t1\n",
      "  (0, 16)\t1\n",
      "  (0, 17)\t1\n",
      "  (0, 18)\t1\n",
      "  (0, 19)\t1\n",
      "  (0, 20)\t1\n",
      "  (0, 21)\t1\n",
      "  (0, 22)\t1\n",
      "  (0, 23)\t1\n",
      "  (0, 24)\t1\n",
      "  (0, 25)\t1\n",
      "  :\t:\n",
      "  (999999, 194398)\t1\n",
      "  (999999, 194410)\t1\n",
      "  (999999, 221578)\t1\n",
      "  (999999, 250248)\t1\n",
      "  (999999, 250249)\t1\n",
      "  (999999, 263925)\t2\n",
      "  (999999, 268821)\t1\n",
      "  (999999, 270010)\t1\n",
      "  (999999, 273644)\t1\n",
      "  (999999, 274131)\t1\n",
      "  (999999, 288295)\t1\n",
      "  (999999, 311291)\t1\n",
      "  (999999, 311299)\t1\n",
      "  (999999, 314025)\t1\n",
      "  (999999, 327267)\t1\n",
      "  (999999, 340556)\t1\n",
      "  (999999, 363031)\t1\n",
      "  (999999, 377469)\t1\n",
      "  (999999, 379395)\t1\n",
      "  (999999, 462400)\t1\n",
      "  (999999, 466733)\t1\n",
      "  (999999, 466735)\t1\n",
      "  (999999, 582309)\t1\n",
      "  (999999, 582312)\t1\n",
      "  (999999, 627056)\t1\n"
     ]
    }
   ],
   "source": [
    "print(sparse_matrix)"
   ]
  },
  {
   "cell_type": "code",
   "execution_count": null,
   "metadata": {},
   "outputs": [],
   "source": [
    "num_features = 50  # Number of latent features\n",
    "\n",
    "# Initialize the NMF model\n",
    "nmf_model = NMF(n_components=num_features, init='random', random_state=0, max_iter=1000)\n",
    "\n",
    "# Fit the model and transform the data\n",
    "P = nmf_model.fit_transform(sparse_matrix)  # User features matrix\n",
    "Q = nmf_model.components_       # Item features matrix"
   ]
  },
  {
   "cell_type": "code",
   "execution_count": 7,
   "metadata": {},
   "outputs": [
    {
     "name": "stdout",
     "output_type": "stream",
     "text": [
      "U Matrix: [[ 7.91152764e-05  4.55646943e-04 -5.02736905e-04 ... -1.44587858e-03\n",
      "   1.82402848e-03  7.74491536e-04]\n",
      " [ 1.75035423e-05  3.12490426e-05  8.15832347e-05 ...  1.92904045e-03\n",
      "   8.90942199e-04  1.31713749e-04]\n",
      " [ 5.69781061e-05  4.32067831e-05  1.12561262e-05 ... -1.92183629e-06\n",
      "   2.77222113e-06  4.10188747e-06]\n",
      " ...\n",
      " [ 1.49053367e-05  1.33442312e-06  1.13877515e-05 ... -1.33526936e-06\n",
      "   6.66563146e-06  2.76084294e-06]\n",
      " [ 9.32822601e-05 -1.24941083e-05 -4.67362381e-05 ... -4.75555934e-06\n",
      "   3.69669216e-06  5.87576196e-06]\n",
      " [ 6.13680740e-20  3.31500616e-20 -1.78220890e-19 ... -1.23308129e-19\n",
      "   1.10936867e-19  1.57812097e-19]]\n",
      "Singular Values: [209.28778874 210.28093996 212.42397963 213.19873828 218.01344851\n",
      " 219.65115984 221.54174498 223.27100752 224.37757141 226.87397191\n",
      " 231.72266705 232.93402124 234.09808801 235.74833292 242.61872012\n",
      " 243.18283765 249.04423834 249.49920643 252.33963985 260.88655205\n",
      " 262.95955062 266.90232618 269.17892512 274.47680879 274.89211621\n",
      " 281.16216302 282.35048096 284.42381754 292.44780019 294.80002557\n",
      " 302.01826303 314.55779496 316.80983379 331.77287648 338.50968472\n",
      " 338.95571167 347.12775255 352.33599269 353.55761551 366.13307465\n",
      " 385.92784504 392.79361903 406.35166761 459.06612766 509.6138498\n",
      " 549.94680176 579.55409073 596.02062965 690.3306173  906.25404211]\n",
      "Vt Matrix: [[-8.58071909e-30 -6.90218441e-03 -2.28860536e-02 ... -3.53231690e-07\n",
      "  -3.53231690e-07 -3.53231690e-07]\n",
      " [ 2.82400457e-17 -8.49104359e-03 -5.15885511e-03 ...  5.53320575e-07\n",
      "   5.53320575e-07  5.53320575e-07]\n",
      " [ 1.31357373e-16 -1.22094314e-02 -3.92870329e-02 ...  2.25632184e-07\n",
      "   2.25632184e-07  2.25632184e-07]\n",
      " ...\n",
      " [ 8.00346863e-16 -1.56564763e-02 -3.25903625e-02 ...  2.76300669e-09\n",
      "   2.76300669e-09  2.76300669e-09]\n",
      " [-1.05292192e-15  1.43723149e-02  4.15304440e-02 ...  6.31120862e-08\n",
      "   6.31120862e-08  6.31120862e-08]\n",
      " [-5.32427578e-16  1.20869509e-02  1.99643349e-02 ...  1.36002074e-08\n",
      "   1.36002074e-08  1.36002074e-08]]\n"
     ]
    }
   ],
   "source": [
    "# Step 3: Apply Truncated SVD\n",
    "import numpy as np\n",
    "from scipy.sparse import coo_matrix\n",
    "from sklearn.decomposition import TruncatedSVD\n",
    "\n",
    "# Convert COO to CSR for better compatibility\n",
    "csr = sparse_matrix.tocsr()\n",
    "csr = csr.astype(float)\n",
    "\n",
    "from scipy.sparse.linalg import svds\n",
    "\n",
    "# Perform Truncated SVD with a limited number of components\n",
    "k = 50  # Number of components\n",
    "U, sigma, Vt = svds(csr, k=k)\n",
    "\n",
    "print(\"U Matrix:\", U)\n",
    "print(\"Singular Values:\", sigma)\n",
    "print(\"Vt Matrix:\", Vt)"
   ]
  },
  {
   "cell_type": "code",
   "execution_count": 8,
   "metadata": {},
   "outputs": [
    {
     "name": "stdout",
     "output_type": "stream",
     "text": [
      "Dimensione U: (1000001, 50)\n",
      "Dimensione sigma: (50,)\n",
      "Dimensione Vt: (50, 2262293)\n"
     ]
    }
   ],
   "source": [
    "print(f'Dimensione U: {U.shape}')\n",
    "print(f'Dimensione sigma: {sigma.shape}')\n",
    "print(f'Dimensione Vt: {Vt.shape}')"
   ]
  },
  {
   "cell_type": "code",
   "execution_count": 9,
   "metadata": {},
   "outputs": [],
   "source": [
    "# Convert sigma to diagonal matrix form\n",
    "sigma = np.diag(sigma)"
   ]
  },
  {
   "cell_type": "code",
   "execution_count": 10,
   "metadata": {},
   "outputs": [
    {
     "data": {
      "text/plain": [
       "array([[209.28778874,   0.        ,   0.        , ...,   0.        ,\n",
       "          0.        ,   0.        ],\n",
       "       [  0.        , 210.28093996,   0.        , ...,   0.        ,\n",
       "          0.        ,   0.        ],\n",
       "       [  0.        ,   0.        , 212.42397963, ...,   0.        ,\n",
       "          0.        ,   0.        ],\n",
       "       ...,\n",
       "       [  0.        ,   0.        ,   0.        , ..., 596.02062965,\n",
       "          0.        ,   0.        ],\n",
       "       [  0.        ,   0.        ,   0.        , ...,   0.        ,\n",
       "        690.3306173 ,   0.        ],\n",
       "       [  0.        ,   0.        ,   0.        , ...,   0.        ,\n",
       "          0.        , 906.25404211]], shape=(50, 50))"
      ]
     },
     "execution_count": 10,
     "metadata": {},
     "output_type": "execute_result"
    }
   ],
   "source": [
    "sigma"
   ]
  },
  {
   "cell_type": "code",
   "execution_count": 37,
   "metadata": {},
   "outputs": [
    {
     "name": "stdout",
     "output_type": "stream",
     "text": [
      "[ 6.85434061e-17 -5.95851875e-04 -1.00930750e-03 ... -2.43592414e-08\n",
      " -2.43592414e-08 -2.43592414e-08]\n"
     ]
    }
   ],
   "source": [
    "user = 999999\n",
    "\n",
    "R_pred_user = np.dot(np.dot(U[user, :k], sigma[:k, :k]), Vt[:k, :])\n",
    "\n",
    "print(R_pred_user)"
   ]
  },
  {
   "cell_type": "code",
   "execution_count": 38,
   "metadata": {},
   "outputs": [
    {
     "name": "stdout",
     "output_type": "stream",
     "text": [
      "Tracks for user 999999: [12421, 12518, 14294, 268821, 311299, 92033, 12463, 41601, 12423, 41168, 39990, 12422, 41184, 273644, 97741, 72435, 314025, 12556, 189369, 72395, 153573, 39988, 40000, 14304, 12426, 12425, 153550, 462400, 12493, 12424, 45776, 12451, 12455, 138207, 379395, 83427, 72425, 40017, 13644, 12489, 12552, 274131, 168841, 194398, 125607, 12444, 71112, 189377, 263925, 377469, 133842, 12461, 14260, 163478, 12535, 153545, 363031, 69331, 39982, 77299, 12511, 12512, 12462, 153537, 153538, 97742, 53263, 153539, 153540, 153541, 153542, 153543, 153544, 12462, 12420, 40001, 84864, 311291, 45751, 270010, 125617, 582309, 582312, 12424, 627056, 3897, 83428, 340556, 194410, 41163, 12489, 263925, 101245, 327267, 250248, 250249, 128315, 221578, 12426, 41167, 153549, 466735, 466733, 72395, 72411, 72433, 288295, 141055, 141040]\n"
     ]
    }
   ],
   "source": [
    "user_tracks = data.loc[data['user_id'] == user, 'tracks'].values[0]\n",
    "user_tracks = user_tracks[:-1]\n",
    "# Print the tracks for user i\n",
    "print(f\"Tracks for user {user}: {user_tracks}\")"
   ]
  },
  {
   "cell_type": "code",
   "execution_count": 39,
   "metadata": {},
   "outputs": [],
   "source": [
    "new_list = [item for idx, item in enumerate(R_pred_user) if idx not in user_tracks]"
   ]
  },
  {
   "cell_type": "code",
   "execution_count": 40,
   "metadata": {},
   "outputs": [
    {
     "name": "stdout",
     "output_type": "stream",
     "text": [
      "5313\n"
     ]
    }
   ],
   "source": [
    "max_position = np.argmax(new_list)\n",
    "print(max_position)"
   ]
  }
 ],
 "metadata": {
  "kernelspec": {
   "display_name": "MRC",
   "language": "python",
   "name": "python3"
  },
  "language_info": {
   "codemirror_mode": {
    "name": "ipython",
    "version": 3
   },
   "file_extension": ".py",
   "mimetype": "text/x-python",
   "name": "python",
   "nbconvert_exporter": "python",
   "pygments_lexer": "ipython3",
   "version": "3.12.8"
  }
 },
 "nbformat": 4,
 "nbformat_minor": 2
}
