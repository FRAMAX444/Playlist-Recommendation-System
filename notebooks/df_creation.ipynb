{
 "cells": [
  {
   "cell_type": "code",
   "execution_count": 1,
   "metadata": {
    "executionInfo": {
     "elapsed": 1461,
     "status": "ok",
     "timestamp": 1735306952173,
     "user": {
      "displayName": "francesco marrocco",
      "userId": "16479437550886075001"
     },
     "user_tz": -60
    },
    "id": "zIEZ_KzgEX_U"
   },
   "outputs": [],
   "source": [
    "import json\n",
    "from tqdm import tqdm\n",
    "import pandas as pd\n",
    "import numpy as np\n",
    "import os"
   ]
  },
  {
   "cell_type": "code",
   "execution_count": 2,
   "metadata": {
    "executionInfo": {
     "elapsed": 13,
     "status": "ok",
     "timestamp": 1735306976328,
     "user": {
      "displayName": "francesco marrocco",
      "userId": "16479437550886075001"
     },
     "user_tz": -60
    },
    "id": "DyOwTtf4D4CA"
   },
   "outputs": [],
   "source": [
    "#Directory per Framar, Jimmy, Leo\n",
    "dir=r'C:\\Users\\frmar\\OneDrive\\Desktop\\GitHub\\Music-Recommender-System\\Spotify_Million\\data'"
   ]
  },
  {
   "cell_type": "code",
   "execution_count": 4,
   "metadata": {
    "colab": {
     "base_uri": "https://localhost:8080/"
    },
    "id": "KkKQEfV_FkdW",
    "outputId": "edc6cdb9-5303-497c-c543-9992505d6cb9"
   },
   "outputs": [
    {
     "name": "stderr",
     "output_type": "stream",
     "text": [
      "100%|██████████| 1000/1000 [05:37<00:00,  2.96it/s]\n"
     ]
    },
    {
     "name": "stdout",
     "output_type": "stream",
     "text": [
      "Processing completed. DataFrame saved to C:\\Users\\frmar\\OneDrive\\Desktop\\GitHub\\Music-Recommender-System\\playlists_trackId.csv.\n"
     ]
    }
   ],
   "source": [
    "# Initialize data structures for deduplication\n",
    "decoder = {}\n",
    "\n",
    "# Helper function to get or create IDs for deduplication\n",
    "def get_or_create_id(mapping, value):\n",
    "    if value not in mapping:\n",
    "        mapping[value] = len(mapping) + 1\n",
    "    return mapping[value]\n",
    "\n",
    "# Directory containing JSON files\n",
    "\n",
    "# Initialize an empty list for storing playlists as rows\n",
    "playlists_data = []\n",
    "\n",
    "for filename in tqdm(os.listdir(dir)):\n",
    "    if filename.endswith(\".json\"):\n",
    "        dir_file = os.path.join(dir, filename)\n",
    "        try:\n",
    "            with open(dir_file, \"r\") as json_file:\n",
    "                data = json.load(json_file)\n",
    "\n",
    "                for playlist in data.get(\"playlists\", []):\n",
    "                    playlist_tracks = []\n",
    "\n",
    "                    for track in playlist.get(\"tracks\", []):\n",
    "                        playlist_tracks.append(get_or_create_id(decoder, (track.get(\"track_uri\"))))\n",
    "\n",
    "                    # Add the playlist to the dataframe structure\n",
    "                    playlists_data.append({\n",
    "                        \"user_id\": playlist.get(\"pid\"),\n",
    "                        \"name\": playlist.get(\"name\"),\n",
    "                        \"tracks\": playlist_tracks\n",
    "                    })\n",
    "                    del playlist_tracks\n",
    "\n",
    "        except json.JSONDecodeError as e:\n",
    "            print(f\"Error decoding JSON in file {filename}: {e}\")\n",
    "        except Exception as e:\n",
    "            print(f\"An error occurred while processing {filename}: {e}\")\n",
    "\n",
    "with open('decoder.json', 'w') as decoder_file:\n",
    "    json.dump(decoder, decoder_file, indent=4)\n",
    "\n",
    "del decoder\n",
    "\n",
    "# Convert playlists data to a Pandas DataFrame\n",
    "playlists_df = pd.DataFrame(playlists_data)\n",
    "\n",
    "del playlists_data\n",
    "\n",
    "# Save the DataFrame to a file\n",
    "output_dir = r'C:\\Users\\frmar\\OneDrive\\Desktop\\GitHub\\Music-Recommender-System'\n",
    "os.makedirs(output_dir, exist_ok=True)\n",
    "\n",
    "# Save as CSV instead of Parquet\n",
    "output_file = os.path.join(output_dir, \"playlists_trackId.csv\")\n",
    "playlists_df.to_csv(output_file, index=False)\n",
    "\n",
    "\n",
    "print(f\"Processing completed. DataFrame saved to {output_file}.\")\n"
   ]
  },
  {
   "cell_type": "code",
   "execution_count": 7,
   "metadata": {
    "colab": {
     "background_save": true,
     "base_uri": "https://localhost:8080/",
     "output_embedded_package_id": "1CPONV7RuPKeFV_KwnpYvkICsuN84QOdp"
    },
    "executionInfo": {
     "elapsed": 29287,
     "status": "ok",
     "timestamp": 1735306812825,
     "user": {
      "displayName": "francesco caperna",
      "userId": "07476526194478581668"
     },
     "user_tz": -60
    },
    "id": "UtAL9qMxV59M",
    "outputId": "1f576262-bab0-45c7-9b88-fe4a0e2abefc"
   },
   "outputs": [
    {
     "data": {
      "text/html": [
       "<div>\n",
       "<style scoped>\n",
       "    .dataframe tbody tr th:only-of-type {\n",
       "        vertical-align: middle;\n",
       "    }\n",
       "\n",
       "    .dataframe tbody tr th {\n",
       "        vertical-align: top;\n",
       "    }\n",
       "\n",
       "    .dataframe thead th {\n",
       "        text-align: right;\n",
       "    }\n",
       "</style>\n",
       "<table border=\"1\" class=\"dataframe\">\n",
       "  <thead>\n",
       "    <tr style=\"text-align: right;\">\n",
       "      <th></th>\n",
       "      <th>user_id</th>\n",
       "      <th>name</th>\n",
       "      <th>tracks</th>\n",
       "    </tr>\n",
       "  </thead>\n",
       "  <tbody>\n",
       "    <tr>\n",
       "      <th>0</th>\n",
       "      <td>0</td>\n",
       "      <td>Throwbacks</td>\n",
       "      <td>[1, 2, 3, 4, 5, 6, 7, 8, 9, 10, 11, 12, 13, 14...</td>\n",
       "    </tr>\n",
       "    <tr>\n",
       "      <th>1</th>\n",
       "      <td>1</td>\n",
       "      <td>Awesome Playlist</td>\n",
       "      <td>[52, 53, 54, 55, 56, 57, 58, 59, 60, 61, 62, 6...</td>\n",
       "    </tr>\n",
       "    <tr>\n",
       "      <th>2</th>\n",
       "      <td>2</td>\n",
       "      <td>korean</td>\n",
       "      <td>[91, 92, 93, 94, 95, 96, 97, 98, 99, 100, 101,...</td>\n",
       "    </tr>\n",
       "    <tr>\n",
       "      <th>3</th>\n",
       "      <td>3</td>\n",
       "      <td>mat</td>\n",
       "      <td>[155, 156, 157, 158, 159, 160, 161, 162, 163, ...</td>\n",
       "    </tr>\n",
       "    <tr>\n",
       "      <th>4</th>\n",
       "      <td>4</td>\n",
       "      <td>90s</td>\n",
       "      <td>[281, 282, 283, 284, 285, 286, 287, 288, 289, ...</td>\n",
       "    </tr>\n",
       "    <tr>\n",
       "      <th>...</th>\n",
       "      <td>...</td>\n",
       "      <td>...</td>\n",
       "      <td>...</td>\n",
       "    </tr>\n",
       "    <tr>\n",
       "      <th>999995</th>\n",
       "      <td>999995</td>\n",
       "      <td>Praise</td>\n",
       "      <td>[116671, 5783, 48788, 5784, 91283, 17696, 5046...</td>\n",
       "    </tr>\n",
       "    <tr>\n",
       "      <th>999996</th>\n",
       "      <td>999996</td>\n",
       "      <td>Worship</td>\n",
       "      <td>[2262285, 2262286, 2262287, 2262288, 2262289, ...</td>\n",
       "    </tr>\n",
       "    <tr>\n",
       "      <th>999997</th>\n",
       "      <td>999997</td>\n",
       "      <td>Sex</td>\n",
       "      <td>[39643, 41143, 5434, 22056, 3860, 1043, 9152, ...</td>\n",
       "    </tr>\n",
       "    <tr>\n",
       "      <th>999998</th>\n",
       "      <td>999998</td>\n",
       "      <td>✝️</td>\n",
       "      <td>[5768, 5872, 14504, 3936, 76224, 5838, 5838, 2...</td>\n",
       "    </tr>\n",
       "    <tr>\n",
       "      <th>999999</th>\n",
       "      <td>999999</td>\n",
       "      <td>BANDA</td>\n",
       "      <td>[12421, 12518, 14294, 268821, 311299, 92033, 1...</td>\n",
       "    </tr>\n",
       "  </tbody>\n",
       "</table>\n",
       "<p>1000000 rows × 3 columns</p>\n",
       "</div>"
      ],
      "text/plain": [
       "        user_id              name  \\\n",
       "0             0        Throwbacks   \n",
       "1             1  Awesome Playlist   \n",
       "2             2           korean    \n",
       "3             3               mat   \n",
       "4             4               90s   \n",
       "...         ...               ...   \n",
       "999995   999995            Praise   \n",
       "999996   999996           Worship   \n",
       "999997   999997               Sex   \n",
       "999998   999998                ✝️   \n",
       "999999   999999             BANDA   \n",
       "\n",
       "                                                   tracks  \n",
       "0       [1, 2, 3, 4, 5, 6, 7, 8, 9, 10, 11, 12, 13, 14...  \n",
       "1       [52, 53, 54, 55, 56, 57, 58, 59, 60, 61, 62, 6...  \n",
       "2       [91, 92, 93, 94, 95, 96, 97, 98, 99, 100, 101,...  \n",
       "3       [155, 156, 157, 158, 159, 160, 161, 162, 163, ...  \n",
       "4       [281, 282, 283, 284, 285, 286, 287, 288, 289, ...  \n",
       "...                                                   ...  \n",
       "999995  [116671, 5783, 48788, 5784, 91283, 17696, 5046...  \n",
       "999996  [2262285, 2262286, 2262287, 2262288, 2262289, ...  \n",
       "999997  [39643, 41143, 5434, 22056, 3860, 1043, 9152, ...  \n",
       "999998  [5768, 5872, 14504, 3936, 76224, 5838, 5838, 2...  \n",
       "999999  [12421, 12518, 14294, 268821, 311299, 92033, 1...  \n",
       "\n",
       "[1000000 rows x 3 columns]"
      ]
     },
     "execution_count": 7,
     "metadata": {},
     "output_type": "execute_result"
    }
   ],
   "source": [
    "playlists_df"
   ]
  }
 ],
 "metadata": {
  "colab": {
   "provenance": []
  },
  "kernelspec": {
   "display_name": "MRC",
   "language": "python",
   "name": "python3"
  },
  "language_info": {
   "codemirror_mode": {
    "name": "ipython",
    "version": 3
   },
   "file_extension": ".py",
   "mimetype": "text/x-python",
   "name": "python",
   "nbconvert_exporter": "python",
   "pygments_lexer": "ipython3",
   "version": "3.12.8"
  }
 },
 "nbformat": 4,
 "nbformat_minor": 0
}
