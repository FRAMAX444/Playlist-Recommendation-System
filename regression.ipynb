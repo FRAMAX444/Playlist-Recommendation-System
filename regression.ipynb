{
 "cells": [
  {
   "cell_type": "code",
   "execution_count": 1,
   "metadata": {},
   "outputs": [],
   "source": [
    "import json\n",
    "from tqdm import tqdm\n",
    "import pandas as pd\n",
    "import numpy as np\n",
    "import os"
   ]
  },
  {
   "cell_type": "code",
   "execution_count": 2,
   "metadata": {},
   "outputs": [],
   "source": [
    "dir=r'C:\\Users\\frmar\\OneDrive\\Desktop\\GitHub\\Music-Recommender-System\\Spotify_Million\\data'"
   ]
  },
  {
   "cell_type": "code",
   "execution_count": 3,
   "metadata": {},
   "outputs": [
    {
     "name": "stderr",
     "output_type": "stream",
     "text": [
      "100%|██████████| 1000/1000 [10:12<00:00,  1.63it/s] \n"
     ]
    }
   ],
   "source": [
    "# Initialize data structures for deduplication\n",
    "artist = {}\n",
    "tracks = {}\n",
    "album = {}\n",
    "\n",
    "# Helper function to get or create IDs for deduplication\n",
    "def get_or_create_id(mapping, value):\n",
    "    if value not in mapping:\n",
    "        mapping[value] = len(mapping) + 1\n",
    "    return mapping[value]\n",
    "\n",
    "# Directory containing JSON files\n",
    "\n",
    "# Initialize an empty list for storing playlists as rows\n",
    "playlists_data = []\n",
    "\n",
    "for filename in tqdm(os.listdir(dir)):\n",
    "    if filename.endswith(\".json\"):\n",
    "        dir_file = os.path.join(dir, filename)\n",
    "        try:\n",
    "            with open(dir_file, \"r\") as json_file:\n",
    "                data = json.load(json_file)\n",
    "\n",
    "                for playlist in data.get(\"playlists\", []):\n",
    "                    playlist_tracks = []\n",
    "\n",
    "                    for track in playlist.get(\"tracks\", []):\n",
    "                        playlist_tracks.append([get_or_create_id(artist, (track.get(\"artist_uri\"))), get_or_create_id(album, (track.get(\"album_uri\"))), get_or_create_id(tracks, (track.get(\"track_uri\"))), track.get(\"duration_ms\")//1000])\n",
    "\n",
    "                    # Add the playlist to the dataframe structure\n",
    "                    playlists_data.append({\n",
    "                        \"user_id\": playlist.get(\"pid\"),\n",
    "                        \"tracks\": playlist_tracks\n",
    "                    })\n",
    "                    del playlist_tracks\n",
    "                \n",
    "        except json.JSONDecodeError as e:\n",
    "            print(f\"Error decoding JSON in file {filename}: {e}\")\n",
    "        except Exception as e:\n",
    "            print(f\"An error occurred while processing {filename}: {e}\")"
   ]
  },
  {
   "cell_type": "code",
   "execution_count": 4,
   "metadata": {},
   "outputs": [],
   "source": [
    "with open('artists.json', 'w') as decoder_file:\n",
    "    json.dump(artist, decoder_file, indent=4)\n",
    "\n",
    "with open('albums.json', 'w') as decoder_file:\n",
    "    json.dump(album, decoder_file, indent=4)\n",
    "\n",
    "with open('tracks.json', 'w') as decoder_file:\n",
    "    json.dump(tracks, decoder_file, indent=4)\n",
    "\n",
    "del artist, album, track"
   ]
  },
  {
   "cell_type": "code",
   "execution_count": 5,
   "metadata": {},
   "outputs": [
    {
     "name": "stdout",
     "output_type": "stream",
     "text": [
      "Processing completed. DataFrame saved to C:\\Users\\frmar\\OneDrive\\Desktop\\GitHub\\Music-Recommender-System\\dataframes\\playlists_nn2.csv.\n"
     ]
    }
   ],
   "source": [
    "# Convert playlists data to a Pandas DataFrame\n",
    "data = pd.DataFrame(playlists_data)\n",
    "\n",
    "del playlists_data\n",
    "\n",
    "# Save the DataFrame to a file\n",
    "output_dir = r'C:\\Users\\frmar\\OneDrive\\Desktop\\GitHub\\Music-Recommender-System\\dataframes'\n",
    "os.makedirs(output_dir, exist_ok=True)\n",
    "\n",
    "# Save as CSV instead of Parquet\n",
    "output_file = os.path.join(output_dir, \"playlists_nn2.csv\")\n",
    "data.to_csv(output_file, index=False)\n",
    "\n",
    "\n",
    "print(f\"Processing completed. DataFrame saved to {output_file}.\")"
   ]
  }
 ],
 "metadata": {
  "kernelspec": {
   "display_name": "MRC",
   "language": "python",
   "name": "python3"
  },
  "language_info": {
   "codemirror_mode": {
    "name": "ipython",
    "version": 3
   },
   "file_extension": ".py",
   "mimetype": "text/x-python",
   "name": "python",
   "nbconvert_exporter": "python",
   "pygments_lexer": "ipython3",
   "version": "3.12.8"
  }
 },
 "nbformat": 4,
 "nbformat_minor": 2
}
